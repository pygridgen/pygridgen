{
 "cells": [
  {
   "cell_type": "markdown",
   "metadata": {},
   "source": [
    "## Examples from the gridgen-c library\n",
    "\n",
    "These are some examples from the original `gridgen-c` library."
   ]
  },
  {
   "cell_type": "code",
   "execution_count": null,
   "metadata": {
    "collapsed": true
   },
   "outputs": [],
   "source": [
    "import warnings\n",
    "warnings.simplefilter('ignore')\n",
    "\n",
    "import numpy\n",
    "from matplotlib import pyplot\n",
    "import pandas\n",
    "import seaborn\n",
    "clear_bkgd = {'axes.facecolor':'none', 'figure.facecolor':'none'}\n",
    "seaborn.set(style='ticks', context='notebook', rc=clear_bkgd)\n",
    "\n",
    "import pygridgen\n",
    "%matplotlib inline\n",
    "\n",
    "def plot_grid(grid, ax):\n",
    "    ax.plot(grid.x.flatten(), grid.y.flatten(), 'k.', label='Grid nodes', zorder=5)\n",
    "    ax.set_aspect('equal')\n",
    "    ax.plot(grid.xbry, grid.ybry, '-', color='0.5', zorder=0)\n",
    "    pos = numpy.nonzero(grid.beta > 0)\n",
    "    neg = numpy.nonzero(grid.beta < 0)\n",
    "    \n",
    "    ax.plot(x[pos], y[pos], 'go', label='Positive', zorder=2, alpha=0.5)\n",
    "    ax.plot(x[neg], y[neg], 'rs', label='Negative', zorder=2, alpha=0.5)\n",
    "    \n",
    "    ax.legend(numpoints=1, loc='lower left')\n",
    "    \n",
    "def read_boundary(example):\n",
    "    df = pandas.read_table(\"gg_examples/xy.{}\".format(example), sep='\\s+').fillna(0)\n",
    "    x, y, beta = df['x'].values, df['y'].values, df['b'].values\n",
    "    ul_idx = numpy.nonzero(df['ul'])[0][0]\n",
    "    return x, y, beta, ul_idx"
   ]
  },
  {
   "cell_type": "markdown",
   "metadata": {},
   "source": [
    "### Sensitivity to $\\beta$\n",
    "This examples shows how a subtle change in the placement of the negative turning points changes how many nodes are \"captured\" into the side channel and alters the layout of the whole grid."
   ]
  },
  {
   "cell_type": "code",
   "execution_count": null,
   "metadata": {
    "collapsed": false
   },
   "outputs": [],
   "source": [
    "fig, axes = pyplot.subplots(figsize=(15, 7), ncols=2, \n",
    "                            sharex=True, sharey=True)\n",
    "\n",
    "for n, ax in enumerate(axes, 1):\n",
    "    x, y, beta, ul_idx = read_boundary(n)\n",
    "    grid = pygridgen.Gridgen(x, y, beta, ul_idx=ul_idx, shape=(40, 20))\n",
    "    plot_grid(grid, ax=ax)\n",
    "    ax.set_xlim(left=-1.25, right=2.50)"
   ]
  },
  {
   "cell_type": "markdown",
   "metadata": {},
   "source": [
    "### Basic Estuary"
   ]
  },
  {
   "cell_type": "code",
   "execution_count": null,
   "metadata": {
    "collapsed": false
   },
   "outputs": [],
   "source": [
    "x, y, beta, ul_idx = read_boundary(0)\n",
    "grid = pygridgen.Gridgen(x, y, beta, ul_idx=ul_idx, shape=(90, 120))\n",
    "\n",
    "fig, ax = pyplot.subplots(figsize=(10, 10))\n",
    "plot_grid(grid, ax=ax)"
   ]
  },
  {
   "cell_type": "markdown",
   "metadata": {},
   "source": [
    "### These are just weird"
   ]
  },
  {
   "cell_type": "code",
   "execution_count": null,
   "metadata": {
    "collapsed": false
   },
   "outputs": [],
   "source": [
    "fig, axes = pyplot.subplots(figsize=(15, 7), ncols=2)\n",
    "shapes = [(40, 125), (40, 80)]\n",
    "for n, (shape, ax) in enumerate(zip(shapes, axes), 3):\n",
    "    x, y, beta, ul_idx = read_boundary(n)\n",
    "    grid = pygridgen.Gridgen(x, y, beta, ul_idx=ul_idx, shape=(40, 125))\n",
    "    plot_grid(grid, ax=ax)"
   ]
  },
  {
   "cell_type": "code",
   "execution_count": null,
   "metadata": {
    "collapsed": false
   },
   "outputs": [],
   "source": [
    "x, y, beta, ul_idx = read_boundary(5)\n",
    "grid = pygridgen.Gridgen(x, y, beta, ul_idx=ul_idx, shape=(31, 31))\n",
    "\n",
    "fig, ax = pyplot.subplots(figsize=(10, 10))\n",
    "plot_grid(grid, ax=ax)"
   ]
  }
 ],
 "metadata": {
  "kernelspec": {
   "display_name": "Python 3",
   "language": "python",
   "name": "python3"
  },
  "language_info": {
   "codemirror_mode": {
    "name": "ipython",
    "version": 3
   },
   "file_extension": ".py",
   "mimetype": "text/x-python",
   "name": "python",
   "nbconvert_exporter": "python",
   "pygments_lexer": "ipython3",
   "version": "3.5.1"
  }
 },
 "nbformat": 4,
 "nbformat_minor": 0
}